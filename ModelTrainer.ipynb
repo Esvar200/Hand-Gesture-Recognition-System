{
 "cells": [
  {
   "cell_type": "code",
   "execution_count": 1,
   "metadata": {},
   "outputs": [
    {
     "name": "stdout",
     "output_type": "stream",
     "text": [
      "WARNING:tensorflow:From c:\\Users\\pesva\\anaconda3\\lib\\site-packages\\tensorflow\\python\\compat\\v2_compat.py:107: disable_resource_variables (from tensorflow.python.ops.variable_scope) is deprecated and will be removed in a future version.\n",
      "Instructions for updating:\n",
      "non-resource variables are not supported in the long term\n",
      "curses is not supported on this machine (please install/reinstall curses for an optimal experience)\n"
     ]
    }
   ],
   "source": [
    "import tensorflow as tf\n",
    "import tflearn\n",
    "from tflearn.layers.conv import conv_2d,max_pool_2d\n",
    "from tflearn.layers.core import input_data,dropout,fully_connected\n",
    "from tflearn.layers.estimator import regression\n",
    "import numpy as np\n",
    "import cv2\n",
    "from sklearn.utils import shuffle"
   ]
  },
  {
   "cell_type": "code",
   "execution_count": 2,
   "metadata": {},
   "outputs": [],
   "source": [
    "#Load Images from Swing\n",
    "loadedImages = []\n",
    "for i in range(0, 1000):\n",
    "    image = cv2.imread('Dataset/SwingImages/swing_' + str(i) + '.png')\n",
    "    gray_image = cv2.cvtColor(image, cv2.COLOR_BGR2GRAY)\n",
    "    loadedImages.append(gray_image.reshape(89, 100, 1))\n",
    "\n",
    "#Load Images From Palm\n",
    "for i in range(0, 1000):\n",
    "    image = cv2.imread('Dataset/PalmImages/palm_' + str(i) + '.png')\n",
    "    gray_image = cv2.cvtColor(image, cv2.COLOR_BGR2GRAY)\n",
    "    loadedImages.append(gray_image.reshape(89, 100, 1))\n",
    "    \n",
    "#Load Images From Fist\n",
    "for i in range(0, 1000):\n",
    "    image = cv2.imread('Dataset/FistImages/fist_' + str(i) + '.png')\n",
    "    gray_image = cv2.cvtColor(image, cv2.COLOR_BGR2GRAY)\n",
    "    loadedImages.append(gray_image.reshape(89, 100, 1))\n"
   ]
  },
  {
   "cell_type": "code",
   "execution_count": 3,
   "metadata": {},
   "outputs": [],
   "source": [
    "# Create OutputVector\n",
    "\n",
    "outputVectors = []\n",
    "for i in range(0, 1000):\n",
    "    outputVectors.append([1, 0, 0])\n",
    "\n",
    "for i in range(0, 1000):\n",
    "    outputVectors.append([0, 1, 0])\n",
    "\n",
    "for i in range(0, 1000):\n",
    "    outputVectors.append([0, 0, 1])\n"
   ]
  },
  {
   "cell_type": "code",
   "execution_count": 4,
   "metadata": {},
   "outputs": [],
   "source": [
    "testImages = []\n",
    "\n",
    "#Load Images for swing\n",
    "for i in range(0, 100):\n",
    "    image = cv2.imread('Dataset/SwingTest/swing_' + str(i) + '.png')\n",
    "    gray_image = cv2.cvtColor(image, cv2.COLOR_BGR2GRAY)\n",
    "    testImages.append(gray_image.reshape(89, 100, 1))\n",
    "\n",
    "#Load Images for Palm\n",
    "for i in range(0, 100):\n",
    "    image = cv2.imread('Dataset/PalmTest/palm_' + str(i) + '.png')\n",
    "    gray_image = cv2.cvtColor(image, cv2.COLOR_BGR2GRAY)\n",
    "    testImages.append(gray_image.reshape(89, 100, 1))\n",
    "    \n",
    "#Load Images for Fist\n",
    "for i in range(0, 100):\n",
    "    image = cv2.imread('Dataset/FistTest/fist_' + str(i) + '.png')\n",
    "    gray_image = cv2.cvtColor(image, cv2.COLOR_BGR2GRAY)\n",
    "    testImages.append(gray_image.reshape(89, 100, 1))\n",
    "\n",
    "testLabels = []\n",
    "\n",
    "for i in range(0, 100):\n",
    "    testLabels.append([1, 0, 0])\n",
    "    \n",
    "for i in range(0, 100):\n",
    "    testLabels.append([0, 1, 0])\n",
    "\n",
    "for i in range(0, 100):\n",
    "    testLabels.append([0, 0, 1])"
   ]
  },
  {
   "cell_type": "code",
   "execution_count": 5,
   "metadata": {},
   "outputs": [
    {
     "name": "stdout",
     "output_type": "stream",
     "text": [
      "WARNING:tensorflow:From c:\\Users\\pesva\\anaconda3\\lib\\site-packages\\tflearn\\initializations.py:110: calling UniformUnitScaling.__init__ (from tensorflow.python.ops.init_ops) with dtype is deprecated and will be removed in a future version.\n",
      "Instructions for updating:\n",
      "Call initializer instance with the dtype argument instead of passing it to the constructor\n",
      "WARNING:tensorflow:From c:\\Users\\pesva\\anaconda3\\lib\\site-packages\\tensorflow\\python\\util\\deprecation.py:576: UniformUnitScaling.__init__ (from tensorflow.python.ops.init_ops) is deprecated and will be removed in a future version.\n",
      "Instructions for updating:\n",
      "Use tf.initializers.variance_scaling instead with distribution=uniform to get equivalent behavior.\n",
      "WARNING:tensorflow:From c:\\Users\\pesva\\anaconda3\\lib\\site-packages\\tflearn\\initializations.py:164: calling TruncatedNormal.__init__ (from tensorflow.python.ops.init_ops) with dtype is deprecated and will be removed in a future version.\n",
      "Instructions for updating:\n",
      "Call initializer instance with the dtype argument instead of passing it to the constructor\n",
      "WARNING:tensorflow:From c:\\Users\\pesva\\anaconda3\\lib\\site-packages\\tensorflow\\python\\util\\dispatch.py:1176: calling dropout (from tensorflow.python.ops.nn_ops) with keep_prob is deprecated and will be removed in a future version.\n",
      "Instructions for updating:\n",
      "Please use `rate` instead of `keep_prob`. Rate should be set to `rate = 1 - keep_prob`.\n"
     ]
    }
   ],
   "source": [
    "# Define the CNN Model\n",
    "from tensorflow.python.framework import ops\n",
    "ops.reset_default_graph()\n",
    "convnet=input_data(shape=[None,89,100,1],name='input')\n",
    "convnet=conv_2d(convnet,32,2,activation='relu')\n",
    "convnet=max_pool_2d(convnet,2)\n",
    "convnet=conv_2d(convnet,64,2,activation='relu')\n",
    "convnet=max_pool_2d(convnet,2)\n",
    "\n",
    "convnet=conv_2d(convnet,128,2,activation='relu')\n",
    "convnet=max_pool_2d(convnet,2)\n",
    "\n",
    "convnet=conv_2d(convnet,256,2,activation='relu')\n",
    "convnet=max_pool_2d(convnet,2)\n",
    "\n",
    "convnet=conv_2d(convnet,256,2,activation='relu')\n",
    "convnet=max_pool_2d(convnet,2)\n",
    "\n",
    "convnet=conv_2d(convnet,128,2,activation='relu')\n",
    "convnet=max_pool_2d(convnet,2)\n",
    "\n",
    "convnet=conv_2d(convnet,64,2,activation='relu')\n",
    "convnet=max_pool_2d(convnet,2)\n",
    "\n",
    "convnet=fully_connected(convnet,1000,activation='relu')\n",
    "convnet=dropout(convnet,0.75)\n",
    "\n",
    "convnet=fully_connected(convnet,3,activation='softmax')\n",
    "\n",
    "convnet=regression(convnet,optimizer='adam',learning_rate=0.001,loss='categorical_crossentropy',name='regression')\n",
    "\n",
    "model=tflearn.DNN(convnet,tensorboard_verbose=0)\n"
   ]
  },
  {
   "cell_type": "code",
   "execution_count": 7,
   "metadata": {},
   "outputs": [
    {
     "name": "stdout",
     "output_type": "stream",
     "text": [
      "Training Step: 2471  | total loss: \u001b[1m\u001b[32m0.00031\u001b[0m\u001b[0m | time: 18.295s\n",
      "| Adam | epoch: 053 | loss: 0.00031 - acc: 1.0000 -- iter: 2944/3000\n",
      "Training Step: 2472  | total loss: \u001b[1m\u001b[32m0.00028\u001b[0m\u001b[0m | time: 19.725s\n",
      "| Adam | epoch: 053 | loss: 0.00028 - acc: 1.0000 | val_loss: 0.81451 - val_acc: 0.8767 -- iter: 3000/3000\n",
      "--\n"
     ]
    },
    {
     "ename": "NotFoundError",
     "evalue": "Graph execution error:\n\nDetected at node 'save/SaveV2' defined at (most recent call last):\n    File \"c:\\Users\\pesva\\anaconda3\\lib\\runpy.py\", line 196, in _run_module_as_main\n      return _run_code(code, main_globals, None,\n    File \"c:\\Users\\pesva\\anaconda3\\lib\\runpy.py\", line 86, in _run_code\n      exec(code, run_globals)\n    File \"c:\\Users\\pesva\\anaconda3\\lib\\site-packages\\ipykernel_launcher.py\", line 17, in <module>\n      app.launch_new_instance()\n    File \"c:\\Users\\pesva\\anaconda3\\lib\\site-packages\\traitlets\\config\\application.py\", line 992, in launch_instance\n      app.start()\n    File \"c:\\Users\\pesva\\anaconda3\\lib\\site-packages\\ipykernel\\kernelapp.py\", line 712, in start\n      self.io_loop.start()\n    File \"c:\\Users\\pesva\\anaconda3\\lib\\site-packages\\tornado\\platform\\asyncio.py\", line 215, in start\n      self.asyncio_loop.run_forever()\n    File \"c:\\Users\\pesva\\anaconda3\\lib\\asyncio\\base_events.py\", line 603, in run_forever\n      self._run_once()\n    File \"c:\\Users\\pesva\\anaconda3\\lib\\asyncio\\base_events.py\", line 1906, in _run_once\n      handle._run()\n    File \"c:\\Users\\pesva\\anaconda3\\lib\\asyncio\\events.py\", line 80, in _run\n      self._context.run(self._callback, *self._args)\n    File \"c:\\Users\\pesva\\anaconda3\\lib\\site-packages\\ipykernel\\kernelbase.py\", line 510, in dispatch_queue\n      await self.process_one()\n    File \"c:\\Users\\pesva\\anaconda3\\lib\\site-packages\\ipykernel\\kernelbase.py\", line 499, in process_one\n      await dispatch(*args)\n    File \"c:\\Users\\pesva\\anaconda3\\lib\\site-packages\\ipykernel\\kernelbase.py\", line 406, in dispatch_shell\n      await result\n    File \"c:\\Users\\pesva\\anaconda3\\lib\\site-packages\\ipykernel\\kernelbase.py\", line 730, in execute_request\n      reply_content = await reply_content\n    File \"c:\\Users\\pesva\\anaconda3\\lib\\site-packages\\ipykernel\\ipkernel.py\", line 383, in do_execute\n      res = shell.run_cell(\n    File \"c:\\Users\\pesva\\anaconda3\\lib\\site-packages\\ipykernel\\zmqshell.py\", line 528, in run_cell\n      return super().run_cell(*args, **kwargs)\n    File \"c:\\Users\\pesva\\anaconda3\\lib\\site-packages\\IPython\\core\\interactiveshell.py\", line 3009, in run_cell\n      result = self._run_cell(\n    File \"c:\\Users\\pesva\\anaconda3\\lib\\site-packages\\IPython\\core\\interactiveshell.py\", line 3064, in _run_cell\n      result = runner(coro)\n    File \"c:\\Users\\pesva\\anaconda3\\lib\\site-packages\\IPython\\core\\async_helpers.py\", line 129, in _pseudo_sync_runner\n      coro.send(None)\n    File \"c:\\Users\\pesva\\anaconda3\\lib\\site-packages\\IPython\\core\\interactiveshell.py\", line 3269, in run_cell_async\n      has_raised = await self.run_ast_nodes(code_ast.body, cell_name,\n    File \"c:\\Users\\pesva\\anaconda3\\lib\\site-packages\\IPython\\core\\interactiveshell.py\", line 3448, in run_ast_nodes\n      if await self.run_code(code, result, async_=asy):\n    File \"c:\\Users\\pesva\\anaconda3\\lib\\site-packages\\IPython\\core\\interactiveshell.py\", line 3508, in run_code\n      exec(code_obj, self.user_global_ns, self.user_ns)\n    File \"C:\\Users\\pesva\\AppData\\Local\\Temp\\ipykernel_18120\\72842703.py\", line 32, in <module>\n      model=tflearn.DNN(convnet,tensorboard_verbose=0)\n    File \"c:\\Users\\pesva\\anaconda3\\lib\\site-packages\\tflearn\\models\\dnn.py\", line 57, in __init__\n      self.trainer = Trainer(self.train_ops,\n    File \"c:\\Users\\pesva\\anaconda3\\lib\\site-packages\\tflearn\\helpers\\trainer.py\", line 134, in __init__\n      self.saver = tf.train.Saver(\nNode: 'save/SaveV2'\nFailed to rename: c:\\Users\\pesva\\Downloads\\Hand-Gesture-Recognition-Using-Background-Elllimination-and-Convolution-Neural-Network-master\\Hand-Gesture-Recognition-Using-Background-Elllimination-and-Convolution-Neural-Network-master\\TrainedModel\\GestureRecogModel1.tfl.data-00000-of-00001.tempstate15140349782507518967 to: c:\\Users\\pesva\\Downloads\\Hand-Gesture-Recognition-Using-Background-Elllimination-and-Convolution-Neural-Network-master\\Hand-Gesture-Recognition-Using-Background-Elllimination-and-Convolution-Neural-Network-master\\TrainedModel\\GestureRecogModel1.tfl.data-00000-of-00001 : The system cannot find the path specified.\r\n; No such process\n\t [[{{node save/SaveV2}}]]\n\nOriginal stack trace for 'save/SaveV2':\n  File \"c:\\Users\\pesva\\anaconda3\\lib\\runpy.py\", line 196, in _run_module_as_main\n    return _run_code(code, main_globals, None,\n  File \"c:\\Users\\pesva\\anaconda3\\lib\\runpy.py\", line 86, in _run_code\n    exec(code, run_globals)\n  File \"c:\\Users\\pesva\\anaconda3\\lib\\site-packages\\ipykernel_launcher.py\", line 17, in <module>\n    app.launch_new_instance()\n  File \"c:\\Users\\pesva\\anaconda3\\lib\\site-packages\\traitlets\\config\\application.py\", line 992, in launch_instance\n    app.start()\n  File \"c:\\Users\\pesva\\anaconda3\\lib\\site-packages\\ipykernel\\kernelapp.py\", line 712, in start\n    self.io_loop.start()\n  File \"c:\\Users\\pesva\\anaconda3\\lib\\site-packages\\tornado\\platform\\asyncio.py\", line 215, in start\n    self.asyncio_loop.run_forever()\n  File \"c:\\Users\\pesva\\anaconda3\\lib\\asyncio\\base_events.py\", line 603, in run_forever\n    self._run_once()\n  File \"c:\\Users\\pesva\\anaconda3\\lib\\asyncio\\base_events.py\", line 1906, in _run_once\n    handle._run()\n  File \"c:\\Users\\pesva\\anaconda3\\lib\\asyncio\\events.py\", line 80, in _run\n    self._context.run(self._callback, *self._args)\n  File \"c:\\Users\\pesva\\anaconda3\\lib\\site-packages\\ipykernel\\kernelbase.py\", line 510, in dispatch_queue\n    await self.process_one()\n  File \"c:\\Users\\pesva\\anaconda3\\lib\\site-packages\\ipykernel\\kernelbase.py\", line 499, in process_one\n    await dispatch(*args)\n  File \"c:\\Users\\pesva\\anaconda3\\lib\\site-packages\\ipykernel\\kernelbase.py\", line 406, in dispatch_shell\n    await result\n  File \"c:\\Users\\pesva\\anaconda3\\lib\\site-packages\\ipykernel\\kernelbase.py\", line 730, in execute_request\n    reply_content = await reply_content\n  File \"c:\\Users\\pesva\\anaconda3\\lib\\site-packages\\ipykernel\\ipkernel.py\", line 383, in do_execute\n    res = shell.run_cell(\n  File \"c:\\Users\\pesva\\anaconda3\\lib\\site-packages\\ipykernel\\zmqshell.py\", line 528, in run_cell\n    return super().run_cell(*args, **kwargs)\n  File \"c:\\Users\\pesva\\anaconda3\\lib\\site-packages\\IPython\\core\\interactiveshell.py\", line 3009, in run_cell\n    result = self._run_cell(\n  File \"c:\\Users\\pesva\\anaconda3\\lib\\site-packages\\IPython\\core\\interactiveshell.py\", line 3064, in _run_cell\n    result = runner(coro)\n  File \"c:\\Users\\pesva\\anaconda3\\lib\\site-packages\\IPython\\core\\async_helpers.py\", line 129, in _pseudo_sync_runner\n    coro.send(None)\n  File \"c:\\Users\\pesva\\anaconda3\\lib\\site-packages\\IPython\\core\\interactiveshell.py\", line 3269, in run_cell_async\n    has_raised = await self.run_ast_nodes(code_ast.body, cell_name,\n  File \"c:\\Users\\pesva\\anaconda3\\lib\\site-packages\\IPython\\core\\interactiveshell.py\", line 3448, in run_ast_nodes\n    if await self.run_code(code, result, async_=asy):\n  File \"c:\\Users\\pesva\\anaconda3\\lib\\site-packages\\IPython\\core\\interactiveshell.py\", line 3508, in run_code\n    exec(code_obj, self.user_global_ns, self.user_ns)\n  File \"C:\\Users\\pesva\\AppData\\Local\\Temp\\ipykernel_18120\\72842703.py\", line 32, in <module>\n    model=tflearn.DNN(convnet,tensorboard_verbose=0)\n  File \"c:\\Users\\pesva\\anaconda3\\lib\\site-packages\\tflearn\\models\\dnn.py\", line 57, in __init__\n    self.trainer = Trainer(self.train_ops,\n  File \"c:\\Users\\pesva\\anaconda3\\lib\\site-packages\\tflearn\\helpers\\trainer.py\", line 134, in __init__\n    self.saver = tf.train.Saver(\n  File \"c:\\Users\\pesva\\anaconda3\\lib\\site-packages\\tensorflow\\python\\training\\saver.py\", line 934, in __init__\n    self.build()\n  File \"c:\\Users\\pesva\\anaconda3\\lib\\site-packages\\tensorflow\\python\\training\\saver.py\", line 946, in build\n    self._build(self._filename, build_save=True, build_restore=True)\n  File \"c:\\Users\\pesva\\anaconda3\\lib\\site-packages\\tensorflow\\python\\training\\saver.py\", line 974, in _build\n    self.saver_def = self._builder._build_internal(  # pylint: disable=protected-access\n  File \"c:\\Users\\pesva\\anaconda3\\lib\\site-packages\\tensorflow\\python\\training\\saver.py\", line 541, in _build_internal\n    save_tensor = self._AddSaveOps(filename_tensor, saveables)\n  File \"c:\\Users\\pesva\\anaconda3\\lib\\site-packages\\tensorflow\\python\\training\\saver.py\", line 230, in _AddSaveOps\n    save = self.save_op(filename_tensor, saveables)\n  File \"c:\\Users\\pesva\\anaconda3\\lib\\site-packages\\tensorflow\\python\\training\\saver.py\", line 145, in save_op\n    return io_ops.save_v2(filename_tensor, tensor_names, tensor_slices,\n  File \"c:\\Users\\pesva\\anaconda3\\lib\\site-packages\\tensorflow\\python\\ops\\gen_io_ops.py\", line 1846, in save_v2\n    _, _, _op, _outputs = _op_def_library._apply_op_helper(\n  File \"c:\\Users\\pesva\\anaconda3\\lib\\site-packages\\tensorflow\\python\\framework\\op_def_library.py\", line 795, in _apply_op_helper\n    op = g._create_op_internal(op_type_name, inputs, dtypes=None,\n  File \"c:\\Users\\pesva\\anaconda3\\lib\\site-packages\\tensorflow\\python\\framework\\ops.py\", line 3814, in _create_op_internal\n    ret = Operation(\n",
     "output_type": "error",
     "traceback": [
      "\u001b[1;31m---------------------------------------------------------------------------\u001b[0m",
      "\u001b[1;31mNotFoundError\u001b[0m                             Traceback (most recent call last)",
      "File \u001b[1;32mc:\\Users\\pesva\\anaconda3\\lib\\site-packages\\tensorflow\\python\\client\\session.py:1378\u001b[0m, in \u001b[0;36mBaseSession._do_call\u001b[1;34m(self, fn, *args)\u001b[0m\n\u001b[0;32m   1377\u001b[0m \u001b[39mtry\u001b[39;00m:\n\u001b[1;32m-> 1378\u001b[0m   \u001b[39mreturn\u001b[39;00m fn(\u001b[39m*\u001b[39;49margs)\n\u001b[0;32m   1379\u001b[0m \u001b[39mexcept\u001b[39;00m errors\u001b[39m.\u001b[39mOpError \u001b[39mas\u001b[39;00m e:\n",
      "File \u001b[1;32mc:\\Users\\pesva\\anaconda3\\lib\\site-packages\\tensorflow\\python\\client\\session.py:1361\u001b[0m, in \u001b[0;36mBaseSession._do_run.<locals>._run_fn\u001b[1;34m(feed_dict, fetch_list, target_list, options, run_metadata)\u001b[0m\n\u001b[0;32m   1360\u001b[0m \u001b[39mself\u001b[39m\u001b[39m.\u001b[39m_extend_graph()\n\u001b[1;32m-> 1361\u001b[0m \u001b[39mreturn\u001b[39;00m \u001b[39mself\u001b[39;49m\u001b[39m.\u001b[39;49m_call_tf_sessionrun(options, feed_dict, fetch_list,\n\u001b[0;32m   1362\u001b[0m                                 target_list, run_metadata)\n",
      "File \u001b[1;32mc:\\Users\\pesva\\anaconda3\\lib\\site-packages\\tensorflow\\python\\client\\session.py:1454\u001b[0m, in \u001b[0;36mBaseSession._call_tf_sessionrun\u001b[1;34m(self, options, feed_dict, fetch_list, target_list, run_metadata)\u001b[0m\n\u001b[0;32m   1452\u001b[0m \u001b[39mdef\u001b[39;00m \u001b[39m_call_tf_sessionrun\u001b[39m(\u001b[39mself\u001b[39m, options, feed_dict, fetch_list, target_list,\n\u001b[0;32m   1453\u001b[0m                         run_metadata):\n\u001b[1;32m-> 1454\u001b[0m   \u001b[39mreturn\u001b[39;00m tf_session\u001b[39m.\u001b[39;49mTF_SessionRun_wrapper(\u001b[39mself\u001b[39;49m\u001b[39m.\u001b[39;49m_session, options, feed_dict,\n\u001b[0;32m   1455\u001b[0m                                           fetch_list, target_list,\n\u001b[0;32m   1456\u001b[0m                                           run_metadata)\n",
      "\u001b[1;31mNotFoundError\u001b[0m: Failed to rename: c:\\Users\\pesva\\Downloads\\Hand-Gesture-Recognition-Using-Background-Elllimination-and-Convolution-Neural-Network-master\\Hand-Gesture-Recognition-Using-Background-Elllimination-and-Convolution-Neural-Network-master\\TrainedModel\\GestureRecogModel1.tfl.data-00000-of-00001.tempstate15140349782507518967 to: c:\\Users\\pesva\\Downloads\\Hand-Gesture-Recognition-Using-Background-Elllimination-and-Convolution-Neural-Network-master\\Hand-Gesture-Recognition-Using-Background-Elllimination-and-Convolution-Neural-Network-master\\TrainedModel\\GestureRecogModel1.tfl.data-00000-of-00001 : The system cannot find the path specified.\r\n; No such process\n\t [[{{node save/SaveV2}}]]",
      "\nDuring handling of the above exception, another exception occurred:\n",
      "\u001b[1;31mNotFoundError\u001b[0m                             Traceback (most recent call last)",
      "\u001b[1;32mc:\\Users\\pesva\\Downloads\\Hand-Gesture-Recognition-Using-Background-Elllimination-and-Convolution-Neural-Network-master\\Hand-Gesture-Recognition-Using-Background-Elllimination-and-Convolution-Neural-Network-master\\ModelTrainer.ipynb Cell 6\u001b[0m line \u001b[0;36m9\n\u001b[0;32m      <a href='vscode-notebook-cell:/c%3A/Users/pesva/Downloads/Hand-Gesture-Recognition-Using-Background-Elllimination-and-Convolution-Neural-Network-master/Hand-Gesture-Recognition-Using-Background-Elllimination-and-Convolution-Neural-Network-master/ModelTrainer.ipynb#W5sZmlsZQ%3D%3D?line=3'>4</a>\u001b[0m \u001b[39m# Train model\u001b[39;00m\n\u001b[0;32m      <a href='vscode-notebook-cell:/c%3A/Users/pesva/Downloads/Hand-Gesture-Recognition-Using-Background-Elllimination-and-Convolution-Neural-Network-master/Hand-Gesture-Recognition-Using-Background-Elllimination-and-Convolution-Neural-Network-master/ModelTrainer.ipynb#W5sZmlsZQ%3D%3D?line=4'>5</a>\u001b[0m model\u001b[39m.\u001b[39mfit(loadedImages, outputVectors, n_epoch\u001b[39m=\u001b[39m\u001b[39m50\u001b[39m,\n\u001b[0;32m      <a href='vscode-notebook-cell:/c%3A/Users/pesva/Downloads/Hand-Gesture-Recognition-Using-Background-Elllimination-and-Convolution-Neural-Network-master/Hand-Gesture-Recognition-Using-Background-Elllimination-and-Convolution-Neural-Network-master/ModelTrainer.ipynb#W5sZmlsZQ%3D%3D?line=5'>6</a>\u001b[0m            validation_set \u001b[39m=\u001b[39m (testImages, testLabels),\n\u001b[0;32m      <a href='vscode-notebook-cell:/c%3A/Users/pesva/Downloads/Hand-Gesture-Recognition-Using-Background-Elllimination-and-Convolution-Neural-Network-master/Hand-Gesture-Recognition-Using-Background-Elllimination-and-Convolution-Neural-Network-master/ModelTrainer.ipynb#W5sZmlsZQ%3D%3D?line=6'>7</a>\u001b[0m            snapshot_step\u001b[39m=\u001b[39m\u001b[39m100\u001b[39m, show_metric\u001b[39m=\u001b[39m\u001b[39mTrue\u001b[39;00m, run_id\u001b[39m=\u001b[39m\u001b[39m'\u001b[39m\u001b[39mconvnet_coursera\u001b[39m\u001b[39m'\u001b[39m)\n\u001b[1;32m----> <a href='vscode-notebook-cell:/c%3A/Users/pesva/Downloads/Hand-Gesture-Recognition-Using-Background-Elllimination-and-Convolution-Neural-Network-master/Hand-Gesture-Recognition-Using-Background-Elllimination-and-Convolution-Neural-Network-master/ModelTrainer.ipynb#W5sZmlsZQ%3D%3D?line=8'>9</a>\u001b[0m model\u001b[39m.\u001b[39;49msave(\u001b[39m\"\u001b[39;49m\u001b[39mTrainedModel/GestureRecogModel1.tfl\u001b[39;49m\u001b[39m\"\u001b[39;49m)\n",
      "File \u001b[1;32mc:\\Users\\pesva\\anaconda3\\lib\\site-packages\\tflearn\\models\\dnn.py:284\u001b[0m, in \u001b[0;36mDNN.save\u001b[1;34m(self, model_file)\u001b[0m\n\u001b[0;32m    275\u001b[0m \u001b[39m\u001b[39m\u001b[39m\"\"\" Save.\u001b[39;00m\n\u001b[0;32m    276\u001b[0m \n\u001b[0;32m    277\u001b[0m \u001b[39mSave model weights.\u001b[39;00m\n\u001b[1;32m   (...)\u001b[0m\n\u001b[0;32m    281\u001b[0m \n\u001b[0;32m    282\u001b[0m \u001b[39m\"\"\"\u001b[39;00m\n\u001b[0;32m    283\u001b[0m \u001b[39m#with self.graph.as_default():\u001b[39;00m\n\u001b[1;32m--> 284\u001b[0m \u001b[39mself\u001b[39;49m\u001b[39m.\u001b[39;49mtrainer\u001b[39m.\u001b[39;49msave(model_file)\n",
      "File \u001b[1;32mc:\\Users\\pesva\\anaconda3\\lib\\site-packages\\tflearn\\helpers\\trainer.py:424\u001b[0m, in \u001b[0;36mTrainer.save\u001b[1;34m(self, model_file, global_step, use_val_saver)\u001b[0m\n\u001b[0;32m    422\u001b[0m     \u001b[39mself\u001b[39m\u001b[39m.\u001b[39mval_saver\u001b[39m.\u001b[39msave(\u001b[39mself\u001b[39m\u001b[39m.\u001b[39msession, model_file, global_step\u001b[39m=\u001b[39mglobal_step)\n\u001b[0;32m    423\u001b[0m \u001b[39melse\u001b[39;00m:\n\u001b[1;32m--> 424\u001b[0m     \u001b[39mself\u001b[39;49m\u001b[39m.\u001b[39;49msaver\u001b[39m.\u001b[39;49msave(\u001b[39mself\u001b[39;49m\u001b[39m.\u001b[39;49msession, model_file, global_step\u001b[39m=\u001b[39;49mglobal_step)\n\u001b[0;32m    425\u001b[0m utils\u001b[39m.\u001b[39mfix_saver(obj_lists)\n",
      "File \u001b[1;32mc:\\Users\\pesva\\anaconda3\\lib\\site-packages\\tensorflow\\python\\training\\saver.py:1306\u001b[0m, in \u001b[0;36mSaver.save\u001b[1;34m(self, sess, save_path, global_step, latest_filename, meta_graph_suffix, write_meta_graph, write_state, strip_default_attrs, save_debug_info)\u001b[0m\n\u001b[0;32m   1302\u001b[0m     \u001b[39mif\u001b[39;00m \u001b[39mnot\u001b[39;00m gfile\u001b[39m.\u001b[39mIsDirectory(save_path_parent):\n\u001b[0;32m   1303\u001b[0m       exc \u001b[39m=\u001b[39m \u001b[39mValueError\u001b[39;00m(\n\u001b[0;32m   1304\u001b[0m           \u001b[39m\"\u001b[39m\u001b[39mParent directory of \u001b[39m\u001b[39m{}\u001b[39;00m\u001b[39m doesn\u001b[39m\u001b[39m'\u001b[39m\u001b[39mt exist, can\u001b[39m\u001b[39m'\u001b[39m\u001b[39mt save.\u001b[39m\u001b[39m\"\u001b[39m\u001b[39m.\u001b[39mformat(\n\u001b[0;32m   1305\u001b[0m               save_path))\n\u001b[1;32m-> 1306\u001b[0m     \u001b[39mraise\u001b[39;00m exc\n\u001b[0;32m   1308\u001b[0m end_time \u001b[39m=\u001b[39m time\u001b[39m.\u001b[39mtime()\n\u001b[0;32m   1309\u001b[0m metrics\u001b[39m.\u001b[39mAddCheckpointWriteDuration(\n\u001b[0;32m   1310\u001b[0m     api_label\u001b[39m=\u001b[39m_SAVER_LABEL,\n\u001b[0;32m   1311\u001b[0m     microseconds\u001b[39m=\u001b[39m_get_duration_microseconds(start_time, end_time))\n",
      "File \u001b[1;32mc:\\Users\\pesva\\anaconda3\\lib\\site-packages\\tensorflow\\python\\training\\saver.py:1287\u001b[0m, in \u001b[0;36mSaver.save\u001b[1;34m(self, sess, save_path, global_step, latest_filename, meta_graph_suffix, write_meta_graph, write_state, strip_default_attrs, save_debug_info)\u001b[0m\n\u001b[0;32m   1285\u001b[0m   model_checkpoint_path \u001b[39m=\u001b[39m \u001b[39mself\u001b[39m\u001b[39m.\u001b[39msaver_def\u001b[39m.\u001b[39msave_tensor_name\n\u001b[0;32m   1286\u001b[0m \u001b[39melse\u001b[39;00m:\n\u001b[1;32m-> 1287\u001b[0m   model_checkpoint_path \u001b[39m=\u001b[39m sess\u001b[39m.\u001b[39;49mrun(\n\u001b[0;32m   1288\u001b[0m       \u001b[39mself\u001b[39;49m\u001b[39m.\u001b[39;49msaver_def\u001b[39m.\u001b[39;49msave_tensor_name,\n\u001b[0;32m   1289\u001b[0m       {\u001b[39mself\u001b[39;49m\u001b[39m.\u001b[39;49msaver_def\u001b[39m.\u001b[39;49mfilename_tensor_name: checkpoint_file})\n\u001b[0;32m   1291\u001b[0m model_checkpoint_path \u001b[39m=\u001b[39m compat\u001b[39m.\u001b[39mas_str(model_checkpoint_path)\n\u001b[0;32m   1292\u001b[0m \u001b[39mif\u001b[39;00m write_state:\n",
      "File \u001b[1;32mc:\\Users\\pesva\\anaconda3\\lib\\site-packages\\tensorflow\\python\\client\\session.py:968\u001b[0m, in \u001b[0;36mBaseSession.run\u001b[1;34m(self, fetches, feed_dict, options, run_metadata)\u001b[0m\n\u001b[0;32m    965\u001b[0m run_metadata_ptr \u001b[39m=\u001b[39m tf_session\u001b[39m.\u001b[39mTF_NewBuffer() \u001b[39mif\u001b[39;00m run_metadata \u001b[39melse\u001b[39;00m \u001b[39mNone\u001b[39;00m\n\u001b[0;32m    967\u001b[0m \u001b[39mtry\u001b[39;00m:\n\u001b[1;32m--> 968\u001b[0m   result \u001b[39m=\u001b[39m \u001b[39mself\u001b[39;49m\u001b[39m.\u001b[39;49m_run(\u001b[39mNone\u001b[39;49;00m, fetches, feed_dict, options_ptr,\n\u001b[0;32m    969\u001b[0m                      run_metadata_ptr)\n\u001b[0;32m    970\u001b[0m   \u001b[39mif\u001b[39;00m run_metadata:\n\u001b[0;32m    971\u001b[0m     proto_data \u001b[39m=\u001b[39m tf_session\u001b[39m.\u001b[39mTF_GetBuffer(run_metadata_ptr)\n",
      "File \u001b[1;32mc:\\Users\\pesva\\anaconda3\\lib\\site-packages\\tensorflow\\python\\client\\session.py:1191\u001b[0m, in \u001b[0;36mBaseSession._run\u001b[1;34m(self, handle, fetches, feed_dict, options, run_metadata)\u001b[0m\n\u001b[0;32m   1188\u001b[0m \u001b[39m# We only want to really perform the run if fetches or targets are provided,\u001b[39;00m\n\u001b[0;32m   1189\u001b[0m \u001b[39m# or if the call is a partial run that specifies feeds.\u001b[39;00m\n\u001b[0;32m   1190\u001b[0m \u001b[39mif\u001b[39;00m final_fetches \u001b[39mor\u001b[39;00m final_targets \u001b[39mor\u001b[39;00m (handle \u001b[39mand\u001b[39;00m feed_dict_tensor):\n\u001b[1;32m-> 1191\u001b[0m   results \u001b[39m=\u001b[39m \u001b[39mself\u001b[39;49m\u001b[39m.\u001b[39;49m_do_run(handle, final_targets, final_fetches,\n\u001b[0;32m   1192\u001b[0m                          feed_dict_tensor, options, run_metadata)\n\u001b[0;32m   1193\u001b[0m \u001b[39melse\u001b[39;00m:\n\u001b[0;32m   1194\u001b[0m   results \u001b[39m=\u001b[39m []\n",
      "File \u001b[1;32mc:\\Users\\pesva\\anaconda3\\lib\\site-packages\\tensorflow\\python\\client\\session.py:1371\u001b[0m, in \u001b[0;36mBaseSession._do_run\u001b[1;34m(self, handle, target_list, fetch_list, feed_dict, options, run_metadata)\u001b[0m\n\u001b[0;32m   1368\u001b[0m   \u001b[39mreturn\u001b[39;00m \u001b[39mself\u001b[39m\u001b[39m.\u001b[39m_call_tf_sessionprun(handle, feed_dict, fetch_list)\n\u001b[0;32m   1370\u001b[0m \u001b[39mif\u001b[39;00m handle \u001b[39mis\u001b[39;00m \u001b[39mNone\u001b[39;00m:\n\u001b[1;32m-> 1371\u001b[0m   \u001b[39mreturn\u001b[39;00m \u001b[39mself\u001b[39;49m\u001b[39m.\u001b[39;49m_do_call(_run_fn, feeds, fetches, targets, options,\n\u001b[0;32m   1372\u001b[0m                        run_metadata)\n\u001b[0;32m   1373\u001b[0m \u001b[39melse\u001b[39;00m:\n\u001b[0;32m   1374\u001b[0m   \u001b[39mreturn\u001b[39;00m \u001b[39mself\u001b[39m\u001b[39m.\u001b[39m_do_call(_prun_fn, handle, feeds, fetches)\n",
      "File \u001b[1;32mc:\\Users\\pesva\\anaconda3\\lib\\site-packages\\tensorflow\\python\\client\\session.py:1397\u001b[0m, in \u001b[0;36mBaseSession._do_call\u001b[1;34m(self, fn, *args)\u001b[0m\n\u001b[0;32m   1392\u001b[0m \u001b[39mif\u001b[39;00m \u001b[39m'\u001b[39m\u001b[39monly supports NHWC tensor format\u001b[39m\u001b[39m'\u001b[39m \u001b[39min\u001b[39;00m message:\n\u001b[0;32m   1393\u001b[0m   message \u001b[39m+\u001b[39m\u001b[39m=\u001b[39m (\u001b[39m'\u001b[39m\u001b[39m\\n\u001b[39;00m\u001b[39mA possible workaround: Try disabling Grappler optimizer\u001b[39m\u001b[39m'\u001b[39m\n\u001b[0;32m   1394\u001b[0m               \u001b[39m'\u001b[39m\u001b[39m\\n\u001b[39;00m\u001b[39mby modifying the config for creating the session eg.\u001b[39m\u001b[39m'\u001b[39m\n\u001b[0;32m   1395\u001b[0m               \u001b[39m'\u001b[39m\u001b[39m\\n\u001b[39;00m\u001b[39msession_config.graph_options.rewrite_options.\u001b[39m\u001b[39m'\u001b[39m\n\u001b[0;32m   1396\u001b[0m               \u001b[39m'\u001b[39m\u001b[39mdisable_meta_optimizer = True\u001b[39m\u001b[39m'\u001b[39m)\n\u001b[1;32m-> 1397\u001b[0m \u001b[39mraise\u001b[39;00m \u001b[39mtype\u001b[39m(e)(node_def, op, message)\n",
      "\u001b[1;31mNotFoundError\u001b[0m: Graph execution error:\n\nDetected at node 'save/SaveV2' defined at (most recent call last):\n    File \"c:\\Users\\pesva\\anaconda3\\lib\\runpy.py\", line 196, in _run_module_as_main\n      return _run_code(code, main_globals, None,\n    File \"c:\\Users\\pesva\\anaconda3\\lib\\runpy.py\", line 86, in _run_code\n      exec(code, run_globals)\n    File \"c:\\Users\\pesva\\anaconda3\\lib\\site-packages\\ipykernel_launcher.py\", line 17, in <module>\n      app.launch_new_instance()\n    File \"c:\\Users\\pesva\\anaconda3\\lib\\site-packages\\traitlets\\config\\application.py\", line 992, in launch_instance\n      app.start()\n    File \"c:\\Users\\pesva\\anaconda3\\lib\\site-packages\\ipykernel\\kernelapp.py\", line 712, in start\n      self.io_loop.start()\n    File \"c:\\Users\\pesva\\anaconda3\\lib\\site-packages\\tornado\\platform\\asyncio.py\", line 215, in start\n      self.asyncio_loop.run_forever()\n    File \"c:\\Users\\pesva\\anaconda3\\lib\\asyncio\\base_events.py\", line 603, in run_forever\n      self._run_once()\n    File \"c:\\Users\\pesva\\anaconda3\\lib\\asyncio\\base_events.py\", line 1906, in _run_once\n      handle._run()\n    File \"c:\\Users\\pesva\\anaconda3\\lib\\asyncio\\events.py\", line 80, in _run\n      self._context.run(self._callback, *self._args)\n    File \"c:\\Users\\pesva\\anaconda3\\lib\\site-packages\\ipykernel\\kernelbase.py\", line 510, in dispatch_queue\n      await self.process_one()\n    File \"c:\\Users\\pesva\\anaconda3\\lib\\site-packages\\ipykernel\\kernelbase.py\", line 499, in process_one\n      await dispatch(*args)\n    File \"c:\\Users\\pesva\\anaconda3\\lib\\site-packages\\ipykernel\\kernelbase.py\", line 406, in dispatch_shell\n      await result\n    File \"c:\\Users\\pesva\\anaconda3\\lib\\site-packages\\ipykernel\\kernelbase.py\", line 730, in execute_request\n      reply_content = await reply_content\n    File \"c:\\Users\\pesva\\anaconda3\\lib\\site-packages\\ipykernel\\ipkernel.py\", line 383, in do_execute\n      res = shell.run_cell(\n    File \"c:\\Users\\pesva\\anaconda3\\lib\\site-packages\\ipykernel\\zmqshell.py\", line 528, in run_cell\n      return super().run_cell(*args, **kwargs)\n    File \"c:\\Users\\pesva\\anaconda3\\lib\\site-packages\\IPython\\core\\interactiveshell.py\", line 3009, in run_cell\n      result = self._run_cell(\n    File \"c:\\Users\\pesva\\anaconda3\\lib\\site-packages\\IPython\\core\\interactiveshell.py\", line 3064, in _run_cell\n      result = runner(coro)\n    File \"c:\\Users\\pesva\\anaconda3\\lib\\site-packages\\IPython\\core\\async_helpers.py\", line 129, in _pseudo_sync_runner\n      coro.send(None)\n    File \"c:\\Users\\pesva\\anaconda3\\lib\\site-packages\\IPython\\core\\interactiveshell.py\", line 3269, in run_cell_async\n      has_raised = await self.run_ast_nodes(code_ast.body, cell_name,\n    File \"c:\\Users\\pesva\\anaconda3\\lib\\site-packages\\IPython\\core\\interactiveshell.py\", line 3448, in run_ast_nodes\n      if await self.run_code(code, result, async_=asy):\n    File \"c:\\Users\\pesva\\anaconda3\\lib\\site-packages\\IPython\\core\\interactiveshell.py\", line 3508, in run_code\n      exec(code_obj, self.user_global_ns, self.user_ns)\n    File \"C:\\Users\\pesva\\AppData\\Local\\Temp\\ipykernel_18120\\72842703.py\", line 32, in <module>\n      model=tflearn.DNN(convnet,tensorboard_verbose=0)\n    File \"c:\\Users\\pesva\\anaconda3\\lib\\site-packages\\tflearn\\models\\dnn.py\", line 57, in __init__\n      self.trainer = Trainer(self.train_ops,\n    File \"c:\\Users\\pesva\\anaconda3\\lib\\site-packages\\tflearn\\helpers\\trainer.py\", line 134, in __init__\n      self.saver = tf.train.Saver(\nNode: 'save/SaveV2'\nFailed to rename: c:\\Users\\pesva\\Downloads\\Hand-Gesture-Recognition-Using-Background-Elllimination-and-Convolution-Neural-Network-master\\Hand-Gesture-Recognition-Using-Background-Elllimination-and-Convolution-Neural-Network-master\\TrainedModel\\GestureRecogModel1.tfl.data-00000-of-00001.tempstate15140349782507518967 to: c:\\Users\\pesva\\Downloads\\Hand-Gesture-Recognition-Using-Background-Elllimination-and-Convolution-Neural-Network-master\\Hand-Gesture-Recognition-Using-Background-Elllimination-and-Convolution-Neural-Network-master\\TrainedModel\\GestureRecogModel1.tfl.data-00000-of-00001 : The system cannot find the path specified.\r\n; No such process\n\t [[{{node save/SaveV2}}]]\n\nOriginal stack trace for 'save/SaveV2':\n  File \"c:\\Users\\pesva\\anaconda3\\lib\\runpy.py\", line 196, in _run_module_as_main\n    return _run_code(code, main_globals, None,\n  File \"c:\\Users\\pesva\\anaconda3\\lib\\runpy.py\", line 86, in _run_code\n    exec(code, run_globals)\n  File \"c:\\Users\\pesva\\anaconda3\\lib\\site-packages\\ipykernel_launcher.py\", line 17, in <module>\n    app.launch_new_instance()\n  File \"c:\\Users\\pesva\\anaconda3\\lib\\site-packages\\traitlets\\config\\application.py\", line 992, in launch_instance\n    app.start()\n  File \"c:\\Users\\pesva\\anaconda3\\lib\\site-packages\\ipykernel\\kernelapp.py\", line 712, in start\n    self.io_loop.start()\n  File \"c:\\Users\\pesva\\anaconda3\\lib\\site-packages\\tornado\\platform\\asyncio.py\", line 215, in start\n    self.asyncio_loop.run_forever()\n  File \"c:\\Users\\pesva\\anaconda3\\lib\\asyncio\\base_events.py\", line 603, in run_forever\n    self._run_once()\n  File \"c:\\Users\\pesva\\anaconda3\\lib\\asyncio\\base_events.py\", line 1906, in _run_once\n    handle._run()\n  File \"c:\\Users\\pesva\\anaconda3\\lib\\asyncio\\events.py\", line 80, in _run\n    self._context.run(self._callback, *self._args)\n  File \"c:\\Users\\pesva\\anaconda3\\lib\\site-packages\\ipykernel\\kernelbase.py\", line 510, in dispatch_queue\n    await self.process_one()\n  File \"c:\\Users\\pesva\\anaconda3\\lib\\site-packages\\ipykernel\\kernelbase.py\", line 499, in process_one\n    await dispatch(*args)\n  File \"c:\\Users\\pesva\\anaconda3\\lib\\site-packages\\ipykernel\\kernelbase.py\", line 406, in dispatch_shell\n    await result\n  File \"c:\\Users\\pesva\\anaconda3\\lib\\site-packages\\ipykernel\\kernelbase.py\", line 730, in execute_request\n    reply_content = await reply_content\n  File \"c:\\Users\\pesva\\anaconda3\\lib\\site-packages\\ipykernel\\ipkernel.py\", line 383, in do_execute\n    res = shell.run_cell(\n  File \"c:\\Users\\pesva\\anaconda3\\lib\\site-packages\\ipykernel\\zmqshell.py\", line 528, in run_cell\n    return super().run_cell(*args, **kwargs)\n  File \"c:\\Users\\pesva\\anaconda3\\lib\\site-packages\\IPython\\core\\interactiveshell.py\", line 3009, in run_cell\n    result = self._run_cell(\n  File \"c:\\Users\\pesva\\anaconda3\\lib\\site-packages\\IPython\\core\\interactiveshell.py\", line 3064, in _run_cell\n    result = runner(coro)\n  File \"c:\\Users\\pesva\\anaconda3\\lib\\site-packages\\IPython\\core\\async_helpers.py\", line 129, in _pseudo_sync_runner\n    coro.send(None)\n  File \"c:\\Users\\pesva\\anaconda3\\lib\\site-packages\\IPython\\core\\interactiveshell.py\", line 3269, in run_cell_async\n    has_raised = await self.run_ast_nodes(code_ast.body, cell_name,\n  File \"c:\\Users\\pesva\\anaconda3\\lib\\site-packages\\IPython\\core\\interactiveshell.py\", line 3448, in run_ast_nodes\n    if await self.run_code(code, result, async_=asy):\n  File \"c:\\Users\\pesva\\anaconda3\\lib\\site-packages\\IPython\\core\\interactiveshell.py\", line 3508, in run_code\n    exec(code_obj, self.user_global_ns, self.user_ns)\n  File \"C:\\Users\\pesva\\AppData\\Local\\Temp\\ipykernel_18120\\72842703.py\", line 32, in <module>\n    model=tflearn.DNN(convnet,tensorboard_verbose=0)\n  File \"c:\\Users\\pesva\\anaconda3\\lib\\site-packages\\tflearn\\models\\dnn.py\", line 57, in __init__\n    self.trainer = Trainer(self.train_ops,\n  File \"c:\\Users\\pesva\\anaconda3\\lib\\site-packages\\tflearn\\helpers\\trainer.py\", line 134, in __init__\n    self.saver = tf.train.Saver(\n  File \"c:\\Users\\pesva\\anaconda3\\lib\\site-packages\\tensorflow\\python\\training\\saver.py\", line 934, in __init__\n    self.build()\n  File \"c:\\Users\\pesva\\anaconda3\\lib\\site-packages\\tensorflow\\python\\training\\saver.py\", line 946, in build\n    self._build(self._filename, build_save=True, build_restore=True)\n  File \"c:\\Users\\pesva\\anaconda3\\lib\\site-packages\\tensorflow\\python\\training\\saver.py\", line 974, in _build\n    self.saver_def = self._builder._build_internal(  # pylint: disable=protected-access\n  File \"c:\\Users\\pesva\\anaconda3\\lib\\site-packages\\tensorflow\\python\\training\\saver.py\", line 541, in _build_internal\n    save_tensor = self._AddSaveOps(filename_tensor, saveables)\n  File \"c:\\Users\\pesva\\anaconda3\\lib\\site-packages\\tensorflow\\python\\training\\saver.py\", line 230, in _AddSaveOps\n    save = self.save_op(filename_tensor, saveables)\n  File \"c:\\Users\\pesva\\anaconda3\\lib\\site-packages\\tensorflow\\python\\training\\saver.py\", line 145, in save_op\n    return io_ops.save_v2(filename_tensor, tensor_names, tensor_slices,\n  File \"c:\\Users\\pesva\\anaconda3\\lib\\site-packages\\tensorflow\\python\\ops\\gen_io_ops.py\", line 1846, in save_v2\n    _, _, _op, _outputs = _op_def_library._apply_op_helper(\n  File \"c:\\Users\\pesva\\anaconda3\\lib\\site-packages\\tensorflow\\python\\framework\\op_def_library.py\", line 795, in _apply_op_helper\n    op = g._create_op_internal(op_type_name, inputs, dtypes=None,\n  File \"c:\\Users\\pesva\\anaconda3\\lib\\site-packages\\tensorflow\\python\\framework\\ops.py\", line 3814, in _create_op_internal\n    ret = Operation(\n"
     ]
    }
   ],
   "source": [
    "# Shuffle Training Data\n",
    "loadedImages, outputVectors = shuffle(loadedImages, outputVectors, random_state=0)\n",
    "\n",
    "# Train model\n",
    "model.fit(loadedImages, outputVectors, n_epoch=50,\n",
    "           validation_set = (testImages, testLabels),\n",
    "           snapshot_step=100, show_metric=True, run_id='convnet_coursera')\n",
    "\n",
    "model.save(\"TrainedModel/GestureRecogModel1.tfl\")"
   ]
  },
  {
   "cell_type": "code",
   "execution_count": null,
   "metadata": {},
   "outputs": [],
   "source": []
  }
 ],
 "metadata": {
  "kernelspec": {
   "display_name": "Python 3",
   "language": "python",
   "name": "python3"
  },
  "language_info": {
   "codemirror_mode": {
    "name": "ipython",
    "version": 3
   },
   "file_extension": ".py",
   "mimetype": "text/x-python",
   "name": "python",
   "nbconvert_exporter": "python",
   "pygments_lexer": "ipython3",
   "version": "3.10.9"
  }
 },
 "nbformat": 4,
 "nbformat_minor": 2
}
